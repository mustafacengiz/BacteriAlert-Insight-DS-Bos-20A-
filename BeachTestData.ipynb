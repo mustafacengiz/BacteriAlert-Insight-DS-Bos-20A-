{
 "cells": [
  {
   "cell_type": "markdown",
   "metadata": {},
   "source": [
    "# In this notebook, we clean Florida Health Departments beach water test data during 2000-2017."
   ]
  },
  {
   "cell_type": "markdown",
   "metadata": {},
   "source": [
    "# 1. Loading the data"
   ]
  },
  {
   "cell_type": "code",
   "execution_count": 1,
   "metadata": {},
   "outputs": [],
   "source": [
    "#importing useful libraries\n",
    "import numpy as np\n",
    "import pandas as pd\n",
    "import seaborn as sns\n",
    "import matplotlib.pyplot as plt"
   ]
  },
  {
   "cell_type": "code",
   "execution_count": 2,
   "metadata": {},
   "outputs": [],
   "source": [
    "#Beach water quality data is stored in the following excel files\n",
    "files_xls = ['2000.xls','2001.xls','2002.xls','2003.xls','2004.xls', '2006.xls','2007.xls','2008.xls','2009.xls',\n",
    "'2010.xls','2011.xls','2012.xls','2013.xls','2014.xls','2015.xls','2016.xls','2017.xls']"
   ]
  },
  {
   "cell_type": "code",
   "execution_count": 3,
   "metadata": {
    "scrolled": false
   },
   "outputs": [
    {
     "name": "stderr",
     "output_type": "stream",
     "text": [
      "/Users/mustafa/anaconda3/lib/python3.7/site-packages/pandas/core/frame.py:6692: FutureWarning: Sorting because non-concatenation axis is not aligned. A future version\n",
      "of pandas will change to not sort by default.\n",
      "\n",
      "To accept the future behavior, pass 'sort=False'.\n",
      "\n",
      "To retain the current behavior and silence the warning, pass 'sort=True'.\n",
      "\n",
      "  sort=sort)\n"
     ]
    }
   ],
   "source": [
    "#Loading the data into a dataframe called first_frame\n",
    "first_frame = pd.DataFrame() #starting an empty dataframe\n",
    "for f in files_xls: #for the file in \n",
    "    data = pd.read_excel(f) #load the data\n",
    "    first_frame = first_frame.append(data) #append the data to the created dataframe"
   ]
  },
  {
   "cell_type": "code",
   "execution_count": 4,
   "metadata": {},
   "outputs": [
    {
     "data": {
      "text/html": [
       "<div>\n",
       "<style scoped>\n",
       "    .dataframe tbody tr th:only-of-type {\n",
       "        vertical-align: middle;\n",
       "    }\n",
       "\n",
       "    .dataframe tbody tr th {\n",
       "        vertical-align: top;\n",
       "    }\n",
       "\n",
       "    .dataframe thead th {\n",
       "        text-align: right;\n",
       "    }\n",
       "</style>\n",
       "<table border=\"1\" class=\"dataframe\">\n",
       "  <thead>\n",
       "    <tr style=\"text-align: right;\">\n",
       "      <th></th>\n",
       "      <th>Advisory_Issue_Date</th>\n",
       "      <th>Advisory_Lifted_Date</th>\n",
       "      <th>AirTemp</th>\n",
       "      <th>Analysis_Time</th>\n",
       "      <th>Analysis_Time_FC</th>\n",
       "      <th>Analysis_date</th>\n",
       "      <th>Analysis_date_FC</th>\n",
       "      <th>Auto number</th>\n",
       "      <th>Batch_ID</th>\n",
       "      <th>Batch_ID_FC</th>\n",
       "      <th>...</th>\n",
       "      <th>enterococcus_code</th>\n",
       "      <th>fecalColiform</th>\n",
       "      <th>fecalColiform_code</th>\n",
       "      <th>last_upd</th>\n",
       "      <th>last_upd_uid</th>\n",
       "      <th>tmpec_GeoMean</th>\n",
       "      <th>uql</th>\n",
       "      <th>uql_EC</th>\n",
       "      <th>uql_FC</th>\n",
       "      <th>uql_fc</th>\n",
       "    </tr>\n",
       "  </thead>\n",
       "  <tbody>\n",
       "    <tr>\n",
       "      <th>0</th>\n",
       "      <td>NaT</td>\n",
       "      <td>NaT</td>\n",
       "      <td>79</td>\n",
       "      <td>NaN</td>\n",
       "      <td>NaN</td>\n",
       "      <td>NaN</td>\n",
       "      <td>NaN</td>\n",
       "      <td>NaN</td>\n",
       "      <td>NaN</td>\n",
       "      <td>NaN</td>\n",
       "      <td>...</td>\n",
       "      <td>GOOD</td>\n",
       "      <td>2</td>\n",
       "      <td>GOOD</td>\n",
       "      <td>NaT</td>\n",
       "      <td>NaN</td>\n",
       "      <td>NaN</td>\n",
       "      <td>NaN</td>\n",
       "      <td>NaN</td>\n",
       "      <td>NaN</td>\n",
       "      <td>NaN</td>\n",
       "    </tr>\n",
       "    <tr>\n",
       "      <th>1</th>\n",
       "      <td>NaT</td>\n",
       "      <td>NaT</td>\n",
       "      <td>84</td>\n",
       "      <td>NaN</td>\n",
       "      <td>NaN</td>\n",
       "      <td>NaN</td>\n",
       "      <td>NaN</td>\n",
       "      <td>NaN</td>\n",
       "      <td>NaN</td>\n",
       "      <td>NaN</td>\n",
       "      <td>...</td>\n",
       "      <td>GOOD</td>\n",
       "      <td>2</td>\n",
       "      <td>GOOD</td>\n",
       "      <td>NaT</td>\n",
       "      <td>NaN</td>\n",
       "      <td>NaN</td>\n",
       "      <td>NaN</td>\n",
       "      <td>NaN</td>\n",
       "      <td>NaN</td>\n",
       "      <td>NaN</td>\n",
       "    </tr>\n",
       "    <tr>\n",
       "      <th>2</th>\n",
       "      <td>NaT</td>\n",
       "      <td>NaT</td>\n",
       "      <td>79</td>\n",
       "      <td>NaN</td>\n",
       "      <td>NaN</td>\n",
       "      <td>NaN</td>\n",
       "      <td>NaN</td>\n",
       "      <td>NaN</td>\n",
       "      <td>NaN</td>\n",
       "      <td>NaN</td>\n",
       "      <td>...</td>\n",
       "      <td>GOOD</td>\n",
       "      <td>2</td>\n",
       "      <td>GOOD</td>\n",
       "      <td>NaT</td>\n",
       "      <td>NaN</td>\n",
       "      <td>NaN</td>\n",
       "      <td>NaN</td>\n",
       "      <td>NaN</td>\n",
       "      <td>NaN</td>\n",
       "      <td>NaN</td>\n",
       "    </tr>\n",
       "    <tr>\n",
       "      <th>3</th>\n",
       "      <td>NaT</td>\n",
       "      <td>NaT</td>\n",
       "      <td>81</td>\n",
       "      <td>NaN</td>\n",
       "      <td>NaN</td>\n",
       "      <td>NaN</td>\n",
       "      <td>NaN</td>\n",
       "      <td>NaN</td>\n",
       "      <td>NaN</td>\n",
       "      <td>NaN</td>\n",
       "      <td>...</td>\n",
       "      <td>GOOD</td>\n",
       "      <td>49</td>\n",
       "      <td>GOOD</td>\n",
       "      <td>NaT</td>\n",
       "      <td>NaN</td>\n",
       "      <td>NaN</td>\n",
       "      <td>NaN</td>\n",
       "      <td>NaN</td>\n",
       "      <td>NaN</td>\n",
       "      <td>NaN</td>\n",
       "    </tr>\n",
       "    <tr>\n",
       "      <th>4</th>\n",
       "      <td>NaT</td>\n",
       "      <td>NaT</td>\n",
       "      <td>64</td>\n",
       "      <td>NaN</td>\n",
       "      <td>NaN</td>\n",
       "      <td>NaN</td>\n",
       "      <td>NaN</td>\n",
       "      <td>NaN</td>\n",
       "      <td>NaN</td>\n",
       "      <td>NaN</td>\n",
       "      <td>...</td>\n",
       "      <td>GOOD</td>\n",
       "      <td>2</td>\n",
       "      <td>GOOD</td>\n",
       "      <td>NaT</td>\n",
       "      <td>NaN</td>\n",
       "      <td>NaN</td>\n",
       "      <td>NaN</td>\n",
       "      <td>NaN</td>\n",
       "      <td>NaN</td>\n",
       "      <td>NaN</td>\n",
       "    </tr>\n",
       "  </tbody>\n",
       "</table>\n",
       "<p>5 rows × 58 columns</p>\n",
       "</div>"
      ],
      "text/plain": [
       "  Advisory_Issue_Date Advisory_Lifted_Date AirTemp Analysis_Time  \\\n",
       "0                 NaT                  NaT      79           NaN   \n",
       "1                 NaT                  NaT      84           NaN   \n",
       "2                 NaT                  NaT      79           NaN   \n",
       "3                 NaT                  NaT      81           NaN   \n",
       "4                 NaT                  NaT      64           NaN   \n",
       "\n",
       "  Analysis_Time_FC Analysis_date Analysis_date_FC  Auto number Batch_ID  \\\n",
       "0              NaN           NaN              NaN          NaN      NaN   \n",
       "1              NaN           NaN              NaN          NaN      NaN   \n",
       "2              NaN           NaN              NaN          NaN      NaN   \n",
       "3              NaN           NaN              NaN          NaN      NaN   \n",
       "4              NaN           NaN              NaN          NaN      NaN   \n",
       "\n",
       "  Batch_ID_FC  ... enterococcus_code fecalColiform fecalColiform_code  \\\n",
       "0         NaN  ...              GOOD             2               GOOD   \n",
       "1         NaN  ...              GOOD             2               GOOD   \n",
       "2         NaN  ...              GOOD             2               GOOD   \n",
       "3         NaN  ...              GOOD            49               GOOD   \n",
       "4         NaN  ...              GOOD             2               GOOD   \n",
       "\n",
       "  last_upd last_upd_uid tmpec_GeoMean uql uql_EC uql_FC uql_fc  \n",
       "0      NaT          NaN           NaN NaN    NaN    NaN    NaN  \n",
       "1      NaT          NaN           NaN NaN    NaN    NaN    NaN  \n",
       "2      NaT          NaN           NaN NaN    NaN    NaN    NaN  \n",
       "3      NaT          NaN           NaN NaN    NaN    NaN    NaN  \n",
       "4      NaT          NaN           NaN NaN    NaN    NaN    NaN  \n",
       "\n",
       "[5 rows x 58 columns]"
      ]
     },
     "execution_count": 4,
     "metadata": {},
     "output_type": "execute_result"
    }
   ],
   "source": [
    "first_frame.head()"
   ]
  },
  {
   "cell_type": "code",
   "execution_count": 5,
   "metadata": {},
   "outputs": [
    {
     "data": {
      "text/plain": [
       "Index(['Advisory_Issue_Date', 'Advisory_Lifted_Date', 'AirTemp',\n",
       "       'Analysis_Time', 'Analysis_Time_FC', 'Analysis_date',\n",
       "       'Analysis_date_FC', 'Auto number', 'Batch_ID', 'Batch_ID_FC',\n",
       "       'CollectionTime', 'Collector', 'CommentField', 'County',\n",
       "       'CurrentDirectionA', 'CurrentDirectionB', 'CurrentStrength', 'Date',\n",
       "       'Lab_ID', 'MDL_EC', 'MDL_FC', 'Odd Comments', 'PeriodID', 'PoorResults',\n",
       "       'RainFall24h', 'RainFall3d', 'RainLastWeek', 'Resample', 'SPID',\n",
       "       'SPID.1', 'SPLocation', 'SPNo', 'SampleTime', 'TidalConditionsA',\n",
       "       'TidalConditionsB', 'UQL_EC', 'UQL_FC', 'Updated', 'Value_Qual',\n",
       "       'Value_Qual_FC', 'WaterQuality', 'WaterTemp', 'Weather', 'advisory',\n",
       "       'autonumber', 'ec_GeoMean', 'ec_GeoMean_Code', 'enterococcus',\n",
       "       'enterococcus_code', 'fecalColiform', 'fecalColiform_code', 'last_upd',\n",
       "       'last_upd_uid', 'tmpec_GeoMean', 'uql', 'uql_EC', 'uql_FC', 'uql_fc'],\n",
       "      dtype='object')"
      ]
     },
     "execution_count": 5,
     "metadata": {},
     "output_type": "execute_result"
    }
   ],
   "source": [
    "#Here are the columns in our dataframe\n",
    "first_frame.columns"
   ]
  },
  {
   "cell_type": "code",
   "execution_count": 6,
   "metadata": {},
   "outputs": [
    {
     "data": {
      "text/plain": [
       "Index(['AirTemp', 'County', 'Date', 'RainFall24h', 'RainFall3d',\n",
       "       'RainLastWeek', 'SPLocation', 'WaterTemp', 'Weather', 'enterococcus'],\n",
       "      dtype='object')"
      ]
     },
     "execution_count": 6,
     "metadata": {},
     "output_type": "execute_result"
    }
   ],
   "source": [
    "#We will remove the following columns from the dataframe, and create a new frame called df\n",
    "remove = ['Advisory_Issue_Date', 'Advisory_Lifted_Date', 'CurrentDirectionB', 'CurrentStrength',\n",
    "       'Analysis_Time', 'Analysis_Time_FC', 'Analysis_date',\n",
    "       'Analysis_date_FC', 'Auto number', 'Batch_ID', 'Batch_ID_FC',\n",
    "       'CollectionTime', 'Collector', 'CommentField', 'TidalConditionsA', 'TidalConditionsB',\n",
    "       'CurrentDirectionA',\n",
    "       'Lab_ID', 'MDL_EC', 'MDL_FC', 'Odd Comments', 'PeriodID', 'PoorResults',\n",
    "       'Resample', 'SPID',\n",
    "       'SPID.1', 'SPNo', 'SampleTime', 'UQL_EC', 'UQL_FC', 'Updated', 'Value_Qual',\n",
    "       'Value_Qual_FC', 'WaterQuality', 'advisory',\n",
    "       'autonumber', 'ec_GeoMean', 'ec_GeoMean_Code',\n",
    "       'enterococcus_code', 'fecalColiform', 'fecalColiform_code', 'last_upd',\n",
    "       'last_upd_uid', 'tmpec_GeoMean', 'uql', 'uql_EC', 'uql_FC', 'uql_fc']\n",
    "\n",
    "df = first_frame.drop(remove, axis = 1) #removing the columns\n",
    "df.columns\n",
    "#printing the columns of df"
   ]
  },
  {
   "cell_type": "code",
   "execution_count": 7,
   "metadata": {},
   "outputs": [
    {
     "name": "stdout",
     "output_type": "stream",
     "text": [
      "<class 'pandas.core.frame.DataFrame'>\n",
      "Int64Index: 199432 entries, 0 to 7886\n",
      "Data columns (total 10 columns):\n",
      "AirTemp         165484 non-null object\n",
      "County          199432 non-null object\n",
      "Date            199432 non-null datetime64[ns]\n",
      "RainFall24h     183189 non-null object\n",
      "RainFall3d      183173 non-null object\n",
      "RainLastWeek    196215 non-null object\n",
      "SPLocation      199432 non-null object\n",
      "WaterTemp       196540 non-null object\n",
      "Weather         196775 non-null object\n",
      "enterococcus    196644 non-null object\n",
      "dtypes: datetime64[ns](1), object(9)\n",
      "memory usage: 16.7+ MB\n"
     ]
    }
   ],
   "source": [
    "df.info()"
   ]
  },
  {
   "cell_type": "code",
   "execution_count": 8,
   "metadata": {},
   "outputs": [],
   "source": [
    "#Looks like the index changes from 0 to 7886\n",
    "#We change the index in the dataframe from 0 to 199431 for no repeated indices\n",
    "lst = [x for x in range(199432)]\n",
    "s = pd.Series(lst)\n",
    "df.set_index([s],inplace = True)"
   ]
  },
  {
   "cell_type": "code",
   "execution_count": 9,
   "metadata": {},
   "outputs": [
    {
     "data": {
      "text/plain": [
       "Int64Index([     0,      1,      2,      3,      4,      5,      6,      7,\n",
       "                 8,      9,\n",
       "            ...\n",
       "            199422, 199423, 199424, 199425, 199426, 199427, 199428, 199429,\n",
       "            199430, 199431],\n",
       "           dtype='int64', length=199432)"
      ]
     },
     "execution_count": 9,
     "metadata": {},
     "output_type": "execute_result"
    }
   ],
   "source": [
    "df.index"
   ]
  },
  {
   "cell_type": "code",
   "execution_count": 10,
   "metadata": {
    "scrolled": true
   },
   "outputs": [
    {
     "name": "stdout",
     "output_type": "stream",
     "text": [
      "<class 'pandas.core.frame.DataFrame'>\n",
      "Int64Index: 199432 entries, 0 to 199431\n",
      "Data columns (total 10 columns):\n",
      "AirTemp         165484 non-null object\n",
      "County          199432 non-null object\n",
      "Date            199432 non-null datetime64[ns]\n",
      "RainFall24h     183189 non-null object\n",
      "RainFall3d      183173 non-null object\n",
      "RainLastWeek    196215 non-null object\n",
      "SPLocation      199432 non-null object\n",
      "WaterTemp       196540 non-null object\n",
      "Weather         196775 non-null object\n",
      "enterococcus    196644 non-null object\n",
      "dtypes: datetime64[ns](1), object(9)\n",
      "memory usage: 16.7+ MB\n"
     ]
    }
   ],
   "source": [
    "df.info()"
   ]
  },
  {
   "cell_type": "markdown",
   "metadata": {},
   "source": [
    "# 2. Handling missing/incorrect values and creating features"
   ]
  },
  {
   "cell_type": "code",
   "execution_count": 11,
   "metadata": {},
   "outputs": [],
   "source": [
    "#Now we will turn empty/false entries into null values\n",
    "#by changing ' ' (and other unexpected entries) in each column into NaN\n",
    "#Previous analysis showed that 'Lab ID, FC BatchID, and FC Analysis date corrected on 1/19/2012 by wdp.' is an unexpected entry.\n",
    "for column in ['AirTemp', 'RainFall24h', 'RainFall3d', 'RainLastWeek','WaterTemp', 'Weather','enterococcus']:\n",
    "    df[column] = df[column].apply(lambda x: np.nan if x == ' ' or x == 'Lab ID, FC BatchID, and FC Analysis date corrected on 1/19/2012 by wdp.' else x)\n",
    "    df[column] = df[column].astype('float') #finally turning them into numeric values"
   ]
  },
  {
   "cell_type": "code",
   "execution_count": 12,
   "metadata": {},
   "outputs": [
    {
     "name": "stdout",
     "output_type": "stream",
     "text": [
      "<class 'pandas.core.frame.DataFrame'>\n",
      "Int64Index: 199432 entries, 0 to 199431\n",
      "Data columns (total 10 columns):\n",
      "AirTemp         165426 non-null float64\n",
      "County          199432 non-null object\n",
      "Date            199432 non-null datetime64[ns]\n",
      "RainFall24h     183131 non-null float64\n",
      "RainFall3d      183115 non-null float64\n",
      "RainLastWeek    196157 non-null float64\n",
      "SPLocation      199432 non-null object\n",
      "WaterTemp       196482 non-null float64\n",
      "Weather         196717 non-null float64\n",
      "enterococcus    196586 non-null float64\n",
      "dtypes: datetime64[ns](1), float64(7), object(2)\n",
      "memory usage: 16.7+ MB\n"
     ]
    }
   ],
   "source": [
    "df.info()"
   ]
  },
  {
   "cell_type": "code",
   "execution_count": 13,
   "metadata": {},
   "outputs": [],
   "source": [
    "#Removing the rows that has no enteroccocus values, since we can't detect pollution for those rows\n",
    "df.dropna(axis = 0, subset = ['enterococcus'],inplace = True)"
   ]
  },
  {
   "cell_type": "code",
   "execution_count": 14,
   "metadata": {},
   "outputs": [
    {
     "name": "stdout",
     "output_type": "stream",
     "text": [
      "<class 'pandas.core.frame.DataFrame'>\n",
      "Int64Index: 196586 entries, 0 to 199431\n",
      "Data columns (total 10 columns):\n",
      "AirTemp         165185 non-null float64\n",
      "County          196586 non-null object\n",
      "Date            196586 non-null datetime64[ns]\n",
      "RainFall24h     182946 non-null float64\n",
      "RainFall3d      182930 non-null float64\n",
      "RainLastWeek    195909 non-null float64\n",
      "SPLocation      196586 non-null object\n",
      "WaterTemp       196241 non-null float64\n",
      "Weather         196471 non-null float64\n",
      "enterococcus    196586 non-null float64\n",
      "dtypes: datetime64[ns](1), float64(7), object(2)\n",
      "memory usage: 16.5+ MB\n"
     ]
    }
   ],
   "source": [
    "df.info()"
   ]
  },
  {
   "cell_type": "code",
   "execution_count": 15,
   "metadata": {},
   "outputs": [],
   "source": [
    "#We will add year, month, day columns based on the date column\n",
    "\n",
    "df['Year'] = df['Date'].dt.year\n",
    "df['Month'] = df['Date'].dt.month\n",
    "df['Day'] = df['Date'].dt.day\n",
    "df['DayofYear'] = df['Month'] * 30 + df['Day']"
   ]
  },
  {
   "cell_type": "code",
   "execution_count": 16,
   "metadata": {
    "scrolled": true
   },
   "outputs": [
    {
     "name": "stdout",
     "output_type": "stream",
     "text": [
      "<class 'pandas.core.frame.DataFrame'>\n",
      "Int64Index: 196586 entries, 0 to 199431\n",
      "Data columns (total 15 columns):\n",
      "AirTemp         165185 non-null float64\n",
      "County          196586 non-null object\n",
      "Date            196586 non-null datetime64[ns]\n",
      "RainFall24h     182946 non-null float64\n",
      "RainFall3d      182930 non-null float64\n",
      "RainLastWeek    195909 non-null float64\n",
      "SPLocation      196586 non-null object\n",
      "WaterTemp       196241 non-null float64\n",
      "Weather         196471 non-null float64\n",
      "enterococcus    196586 non-null float64\n",
      "Year            196586 non-null int64\n",
      "Month           196586 non-null int64\n",
      "Day             196586 non-null int64\n",
      "DayofYear       196586 non-null int64\n",
      "Pollution       196586 non-null int64\n",
      "dtypes: datetime64[ns](1), float64(7), int64(5), object(2)\n",
      "memory usage: 24.0+ MB\n"
     ]
    }
   ],
   "source": [
    "#The test results Pollution if the enterococcus level is above 70\n",
    "#So we label each row accordingly\n",
    "def categ(x):\n",
    "    if 0 <= x < 70:\n",
    "        return int(0)\n",
    "    if 70 <= x:\n",
    "        return int(1)\n",
    "\n",
    "df['Pollution'] = df['enterococcus'].apply(categ)\n",
    "df['Pollution'] = df['Pollution'].astype(int)\n",
    "\n",
    "df.info()"
   ]
  },
  {
   "cell_type": "code",
   "execution_count": 17,
   "metadata": {},
   "outputs": [],
   "source": [
    "#Now we will remove beaches that are polluted less than 0.01 of the time\n",
    "#as these beaches are outliers in our dataset\n",
    "#First we group these beaches in a list\n",
    "clean_beaches = []\n",
    "n_tests = 0\n",
    "for beach in df.SPLocation.unique():\n",
    "    if df[df['SPLocation'] == beach].Pollution.mean() < 0.01:\n",
    "        n_tests += len(df[df['SPLocation'] == beach])\n",
    "        clean_beaches.append(beach)"
   ]
  },
  {
   "cell_type": "code",
   "execution_count": 18,
   "metadata": {},
   "outputs": [
    {
     "name": "stdout",
     "output_type": "stream",
     "text": [
      "69 24588\n"
     ]
    }
   ],
   "source": [
    "#Looks like there are 69 such beaches \n",
    "#and 24588 of the tests are on these beaches\n",
    "print(len(clean_beaches),n_tests)"
   ]
  },
  {
   "cell_type": "code",
   "execution_count": 19,
   "metadata": {},
   "outputs": [],
   "source": [
    "#Now we remove these beaches\n",
    "def clean(b): #first creating a mask as a function\n",
    "    return b in clean_beaches\n",
    "\n",
    "df['Clean'] = df['SPLocation'].apply(clean) #adding the mask as a truth value in a new column\n",
    "df = df[df['Clean'] == False] #Now slicing the beaches which are not clean\n",
    "df.drop(['Clean'],axis=1,inplace=True) #dropping the mask column"
   ]
  },
  {
   "cell_type": "code",
   "execution_count": 20,
   "metadata": {},
   "outputs": [
    {
     "name": "stdout",
     "output_type": "stream",
     "text": [
      "<class 'pandas.core.frame.DataFrame'>\n",
      "Int64Index: 171998 entries, 0 to 199431\n",
      "Data columns (total 15 columns):\n",
      "AirTemp         143827 non-null float64\n",
      "County          171998 non-null object\n",
      "Date            171998 non-null datetime64[ns]\n",
      "RainFall24h     160426 non-null float64\n",
      "RainFall3d      160410 non-null float64\n",
      "RainLastWeek    171343 non-null float64\n",
      "SPLocation      171998 non-null object\n",
      "WaterTemp       171676 non-null float64\n",
      "Weather         171900 non-null float64\n",
      "enterococcus    171998 non-null float64\n",
      "Year            171998 non-null int64\n",
      "Month           171998 non-null int64\n",
      "Day             171998 non-null int64\n",
      "DayofYear       171998 non-null int64\n",
      "Pollution       171998 non-null int64\n",
      "dtypes: datetime64[ns](1), float64(7), int64(5), object(2)\n",
      "memory usage: 21.0+ MB\n"
     ]
    }
   ],
   "source": [
    "df.info()"
   ]
  },
  {
   "cell_type": "code",
   "execution_count": 21,
   "metadata": {},
   "outputs": [],
   "source": [
    "#We will also remove beaches that are sampled less than 100 times \n",
    "#as these beaches may not support a pattern in the dataset\n",
    "sparse_beaches = []\n",
    "n_tests = 0\n",
    "for beach in df.SPLocation.unique():\n",
    "    if len(df[df['SPLocation'] == beach]) < 100:\n",
    "        n_tests += len(df[df['SPLocation'] == beach])\n",
    "        sparse_beaches.append(beach)"
   ]
  },
  {
   "cell_type": "code",
   "execution_count": 22,
   "metadata": {},
   "outputs": [
    {
     "name": "stdout",
     "output_type": "stream",
     "text": [
      "33 1477\n"
     ]
    }
   ],
   "source": [
    "#Looks like there are 33 such beaches \n",
    "#and 1477 of the tests are on these beaches\n",
    "print(len(sparse_beaches),n_tests)"
   ]
  },
  {
   "cell_type": "code",
   "execution_count": 23,
   "metadata": {},
   "outputs": [],
   "source": [
    "#Similarly, we will remove these beaches from the dataset\n",
    "def sparse(b): #creating a mask\n",
    "    return b in sparse_beaches\n",
    "df['Sparse'] = df['SPLocation'].apply(sparse)#adding the mask as a column\n",
    "df = df[df['Sparse'] == False] #Now slicing the beaches which are not sparse\n",
    "df.drop(['Sparse'],axis=1,inplace=True) #dropping the mask column"
   ]
  },
  {
   "cell_type": "code",
   "execution_count": 24,
   "metadata": {},
   "outputs": [
    {
     "name": "stdout",
     "output_type": "stream",
     "text": [
      "<class 'pandas.core.frame.DataFrame'>\n",
      "Int64Index: 170521 entries, 11 to 199396\n",
      "Data columns (total 15 columns):\n",
      "AirTemp         142573 non-null float64\n",
      "County          170521 non-null object\n",
      "Date            170521 non-null datetime64[ns]\n",
      "RainFall24h     159828 non-null float64\n",
      "RainFall3d      159812 non-null float64\n",
      "RainLastWeek    169875 non-null float64\n",
      "SPLocation      170521 non-null object\n",
      "WaterTemp       170212 non-null float64\n",
      "Weather         170436 non-null float64\n",
      "enterococcus    170521 non-null float64\n",
      "Year            170521 non-null int64\n",
      "Month           170521 non-null int64\n",
      "Day             170521 non-null int64\n",
      "DayofYear       170521 non-null int64\n",
      "Pollution       170521 non-null int64\n",
      "dtypes: datetime64[ns](1), float64(7), int64(5), object(2)\n",
      "memory usage: 20.8+ MB\n"
     ]
    }
   ],
   "source": [
    "df.info()"
   ]
  },
  {
   "cell_type": "code",
   "execution_count": 25,
   "metadata": {},
   "outputs": [
    {
     "data": {
      "text/plain": [
       "291"
      ]
     },
     "execution_count": 25,
     "metadata": {},
     "output_type": "execute_result"
    }
   ],
   "source": [
    "#There are 291 beaches left\n",
    "df.SPLocation.nunique()"
   ]
  },
  {
   "cell_type": "code",
   "execution_count": 26,
   "metadata": {},
   "outputs": [
    {
     "data": {
      "text/plain": [
       "66"
      ]
     },
     "execution_count": 26,
     "metadata": {},
     "output_type": "execute_result"
    }
   ],
   "source": [
    "#Also, there exists 35 coastal counties in Florida\n",
    "#But the dataframe contains 66 counties\n",
    "df.County.nunique()"
   ]
  },
  {
   "cell_type": "code",
   "execution_count": 27,
   "metadata": {},
   "outputs": [
    {
     "data": {
      "text/plain": [
       "array(['Bay', 'Brevard', 'Broward', 'Charlotte', 'Citrus', 'Collier',\n",
       "       'Dade', 'Dixie', 'Duval', 'Escambia', 'Franklin', 'Gulf',\n",
       "       'Hernando', 'Hillsborough', 'Indian River', 'Lee', 'Levy',\n",
       "       'Manatee', 'Martin', 'Monroe', 'Nassau', 'Okaloosa', 'Palm Beach',\n",
       "       'Pasco', 'Pinellas', 'Santa Rosa', 'Sarasota', 'St Johns',\n",
       "       'St Lucie', 'Taylor', 'Volusia', 'Wakulla', 'Walton',\n",
       "       'Dade                ', 'Broward             ',\n",
       "       'Lee                 ', 'Pinellas            ',\n",
       "       'Citrus              ', 'Monroe              ',\n",
       "       'Duval               ', 'Hillsborough        ',\n",
       "       'Manatee             ', 'Walton              ',\n",
       "       'Bay                 ', 'Charlotte           ',\n",
       "       'Brevard             ', 'Okaloosa            ',\n",
       "       'Indian River        ', 'Palm Beach          ',\n",
       "       'Volusia             ', 'Collier             ',\n",
       "       'Santa Rosa          ', 'Pasco               ',\n",
       "       'Nassau              ', 'Martin              ',\n",
       "       'St Lucie            ', 'Sarasota            ',\n",
       "       'Escambia            ', 'St Johns            ',\n",
       "       'Dixie               ', 'Levy                ',\n",
       "       'Hernando            ', 'Gulf                ',\n",
       "       'Franklin            ', 'Wakulla             ',\n",
       "       'Taylor              '], dtype=object)"
      ]
     },
     "execution_count": 27,
     "metadata": {},
     "output_type": "execute_result"
    }
   ],
   "source": [
    "df.County.unique()"
   ]
  },
  {
   "cell_type": "code",
   "execution_count": 28,
   "metadata": {},
   "outputs": [
    {
     "data": {
      "text/plain": [
       "33"
      ]
     },
     "execution_count": 28,
     "metadata": {},
     "output_type": "execute_result"
    }
   ],
   "source": [
    "#Looks like some counties are written with extra space at the end\n",
    "#We remove those spaces with the .strip() function to reduce the number of counties to 33\n",
    "df['County'] = df['County'].apply(lambda x: x.strip())\n",
    "df.County.nunique()"
   ]
  },
  {
   "cell_type": "code",
   "execution_count": 29,
   "metadata": {},
   "outputs": [
    {
     "data": {
      "text/plain": [
       "<matplotlib.axes._subplots.AxesSubplot at 0x121ca2e48>"
      ]
     },
     "execution_count": 29,
     "metadata": {},
     "output_type": "execute_result"
    },
    {
     "data": {
      "image/png": "[encoded data removed]",
      "text/plain": [
       "<Figure size 432x288 with 1 Axes>"
      ]
     },
     "metadata": {
      "needs_background": "light"
     },
     "output_type": "display_data"
    }
   ],
   "source": [
    "#Now we start handling missing values\n",
    "#First let us see missing values in a heatmap\n",
    "sns.heatmap(df.isnull(),yticklabels=False,cbar=False,cmap='viridis')"
   ]
  },
  {
   "cell_type": "code",
   "execution_count": 30,
   "metadata": {},
   "outputs": [
    {
     "data": {
      "text/plain": [
       "<matplotlib.axes._subplots.AxesSubplot at 0x1248b14e0>"
      ]
     },
     "execution_count": 30,
     "metadata": {},
     "output_type": "execute_result"
    },
    {
     "data": {
      "image/png": "[encoded data removed]",
      "text/plain": [
       "<Figure size 432x288 with 1 Axes>"
      ]
     },
     "metadata": {
      "needs_background": "light"
     },
     "output_type": "display_data"
    }
   ],
   "source": [
    "#We need to recover air temprature values \n",
    "#The following linear regression plot suggests a correlation between air temprature and water temprature\n",
    "sns.regplot(x = 'WaterTemp', y = 'AirTemp', data = df[df['WaterTemp'] < 120])"
   ]
  },
  {
   "cell_type": "code",
   "execution_count": 31,
   "metadata": {},
   "outputs": [],
   "source": [
    "#We will cover missing air temprature values as a linear function of water temprature \n",
    "#But first let us turn the outliers (values < 20) into null values\n",
    "for column in ['AirTemp', 'WaterTemp']:\n",
    "    df[column] = df[column].apply(lambda x: np.nan if x < 20  else x)\n",
    "    df[column] = df[column].astype('float') #turning them into numeric"
   ]
  },
  {
   "cell_type": "code",
   "execution_count": 32,
   "metadata": {},
   "outputs": [
    {
     "data": {
      "text/plain": [
       "<matplotlib.axes._subplots.AxesSubplot at 0x11eea77f0>"
      ]
     },
     "execution_count": 32,
     "metadata": {},
     "output_type": "execute_result"
    },
    {
     "data": {
      "image/png": "[encoded data removed]",
      "text/plain": [
       "<Figure size 432x288 with 1 Axes>"
      ]
     },
     "metadata": {
      "needs_background": "light"
     },
     "output_type": "display_data"
    }
   ],
   "source": [
    "#After getting rid of those values we obtain a more clear correlation between the air temprature and the water temprature\n",
    "sns.regplot(x = 'WaterTemp', y = 'AirTemp', data = df[df['WaterTemp'] < 120])"
   ]
  },
  {
   "cell_type": "code",
   "execution_count": 33,
   "metadata": {},
   "outputs": [],
   "source": [
    "#Now we recover the missing air temprature based on water temperature\n",
    "df['AirTemp'] = df['AirTemp'].fillna(7/8 * (df['WaterTemp']) + 13 )"
   ]
  },
  {
   "cell_type": "code",
   "execution_count": 34,
   "metadata": {},
   "outputs": [
    {
     "data": {
      "text/plain": [
       "<matplotlib.axes._subplots.AxesSubplot at 0x12003aeb8>"
      ]
     },
     "execution_count": 34,
     "metadata": {},
     "output_type": "execute_result"
    },
    {
     "data": {
      "image/png": "[encoded data removed]",
      "text/plain": [
       "<Figure size 432x288 with 1 Axes>"
      ]
     },
     "metadata": {
      "needs_background": "light"
     },
     "output_type": "display_data"
    }
   ],
   "source": [
    "#Looking at a heatmap again we see that some RainFall24h and RainFall3d values are missing\n",
    "sns.heatmap(df.isnull(),yticklabels=False,cbar=False,cmap='viridis')"
   ]
  },
  {
   "cell_type": "code",
   "execution_count": 35,
   "metadata": {},
   "outputs": [],
   "source": [
    "#We recover those values as sensible functions of RainLastWeek\n",
    "df['RainFall24h'] = df['RainFall24h'].fillna(df['RainLastWeek']/5)\n",
    "df['RainFall3d'] = df['RainFall3d'].fillna(df['RainLastWeek']/2)"
   ]
  },
  {
   "cell_type": "code",
   "execution_count": 36,
   "metadata": {},
   "outputs": [
    {
     "name": "stdout",
     "output_type": "stream",
     "text": [
      "<class 'pandas.core.frame.DataFrame'>\n",
      "Int64Index: 170521 entries, 11 to 199396\n",
      "Data columns (total 15 columns):\n",
      "AirTemp         170086 non-null float64\n",
      "County          170521 non-null object\n",
      "Date            170521 non-null datetime64[ns]\n",
      "RainFall24h     169893 non-null float64\n",
      "RainFall3d      169888 non-null float64\n",
      "RainLastWeek    169875 non-null float64\n",
      "SPLocation      170521 non-null object\n",
      "WaterTemp       170026 non-null float64\n",
      "Weather         170436 non-null float64\n",
      "enterococcus    170521 non-null float64\n",
      "Year            170521 non-null int64\n",
      "Month           170521 non-null int64\n",
      "Day             170521 non-null int64\n",
      "DayofYear       170521 non-null int64\n",
      "Pollution       170521 non-null int64\n",
      "dtypes: datetime64[ns](1), float64(7), int64(5), object(2)\n",
      "memory usage: 20.8+ MB\n"
     ]
    }
   ],
   "source": [
    "#Looking at the data info we see that few values are missing in several columns\n",
    "df.info()"
   ]
  },
  {
   "cell_type": "code",
   "execution_count": 37,
   "metadata": {},
   "outputs": [
    {
     "data": {
      "text/plain": [
       "1.00    118958\n",
       "2.00     44710\n",
       "3.00      5891\n",
       "0.00       949\n",
       "0.33         4\n",
       "0.04         3\n",
       "1.41         3\n",
       "1.05         3\n",
       "Name: Weather, dtype: int64"
      ]
     },
     "execution_count": 37,
     "metadata": {},
     "output_type": "execute_result"
    }
   ],
   "source": [
    "#We fill Weather values with the bfill method\n",
    "df.Weather.fillna(method='bfill',inplace = True)\n",
    "#And check the possible values for Weather\n",
    "df.Weather.value_counts() "
   ]
  },
  {
   "cell_type": "code",
   "execution_count": 38,
   "metadata": {},
   "outputs": [],
   "source": [
    "#Weather values are supposed to be 1,2, or 3 (for sunny, cloudy, or rainy)\n",
    "#We turn all weather values in to 1, 2, or 3.\n",
    "df['Weather'] = df['Weather'].apply(lambda x: float(int(x)+1) if int(x) != x else x) #adding 1 to non-integer entries\n",
    "df['Weather'] = df['Weather'].apply(lambda x: x+1 if x == 0 else x) #finally completing 0's to 1"
   ]
  },
  {
   "cell_type": "code",
   "execution_count": 39,
   "metadata": {},
   "outputs": [
    {
     "data": {
      "text/plain": [
       "1.0    119914\n",
       "2.0     44716\n",
       "3.0      5891\n",
       "Name: Weather, dtype: int64"
      ]
     },
     "execution_count": 39,
     "metadata": {},
     "output_type": "execute_result"
    }
   ],
   "source": [
    "#Finally we have no unexpected Weather values\n",
    "df.Weather.value_counts()"
   ]
  },
  {
   "cell_type": "code",
   "execution_count": 40,
   "metadata": {},
   "outputs": [
    {
     "name": "stdout",
     "output_type": "stream",
     "text": [
      "<class 'pandas.core.frame.DataFrame'>\n",
      "Int64Index: 170521 entries, 11 to 199396\n",
      "Data columns (total 15 columns):\n",
      "AirTemp         170086 non-null float64\n",
      "County          170521 non-null object\n",
      "Date            170521 non-null datetime64[ns]\n",
      "RainFall24h     169893 non-null float64\n",
      "RainFall3d      169888 non-null float64\n",
      "RainLastWeek    169875 non-null float64\n",
      "SPLocation      170521 non-null object\n",
      "WaterTemp       170026 non-null float64\n",
      "Weather         170521 non-null float64\n",
      "enterococcus    170521 non-null float64\n",
      "Year            170521 non-null int64\n",
      "Month           170521 non-null int64\n",
      "Day             170521 non-null int64\n",
      "DayofYear       170521 non-null int64\n",
      "Pollution       170521 non-null int64\n",
      "dtypes: datetime64[ns](1), float64(7), int64(5), object(2)\n",
      "memory usage: 20.8+ MB\n"
     ]
    }
   ],
   "source": [
    "#We check the info one last time to see that there are five columns with few missing values\n",
    "df.info()"
   ]
  },
  {
   "cell_type": "code",
   "execution_count": 41,
   "metadata": {
    "scrolled": true
   },
   "outputs": [],
   "source": [
    "#We fill those with the column mean\n",
    "for column in ['RainFall24h', 'RainFall3d', 'RainLastWeek','AirTemp','WaterTemp']:\n",
    "    df[column] = df[column].fillna(df[column].mean())"
   ]
  },
  {
   "cell_type": "code",
   "execution_count": 42,
   "metadata": {},
   "outputs": [
    {
     "name": "stdout",
     "output_type": "stream",
     "text": [
      "<class 'pandas.core.frame.DataFrame'>\n",
      "Int64Index: 170521 entries, 11 to 199396\n",
      "Data columns (total 15 columns):\n",
      "AirTemp         170521 non-null float64\n",
      "County          170521 non-null object\n",
      "Date            170521 non-null datetime64[ns]\n",
      "RainFall24h     170521 non-null float64\n",
      "RainFall3d      170521 non-null float64\n",
      "RainLastWeek    170521 non-null float64\n",
      "SPLocation      170521 non-null object\n",
      "WaterTemp       170521 non-null float64\n",
      "Weather         170521 non-null float64\n",
      "enterococcus    170521 non-null float64\n",
      "Year            170521 non-null int64\n",
      "Month           170521 non-null int64\n",
      "Day             170521 non-null int64\n",
      "DayofYear       170521 non-null int64\n",
      "Pollution       170521 non-null int64\n",
      "dtypes: datetime64[ns](1), float64(7), int64(5), object(2)\n",
      "memory usage: 20.8+ MB\n"
     ]
    }
   ],
   "source": [
    "df.info()"
   ]
  },
  {
   "cell_type": "code",
   "execution_count": 43,
   "metadata": {},
   "outputs": [],
   "source": [
    "#For convenience in the feature we will now add columns that encode SPLocation, county, and region numerically\n",
    "\n",
    "#List of counties\n",
    "county_list = ['Escambia', 'Santa Rosa', 'Okaloosa', 'Walton', 'Bay', 'Gulf', 'Franklin', 'Wakulla', 'Jefferson', \n",
    "'Taylor', 'Dixie', 'Levy', 'Citrus', 'Hernando','Pasco', 'Pinellas', 'Hillsborough', 'Manatee', 'Sarasota', \n",
    "'Charlotte', 'Lee', 'Collier', 'Monroe','Dade', 'Broward', 'Palm Beach', 'Martin', 'St Lucie', 'Indian River', \n",
    "'Brevard','Volusia', 'Flagler', 'St Johns', 'Duval', 'Nassau']#list of coastal counties\n",
    "\n",
    "\n",
    "#List of regions\n",
    "gulf = ['Escambia', 'Santa Rosa', 'Okaloosa', 'Walton', 'Bay', 'Gulf', 'Franklin', 'Wakulla', 'Jefferson', 'Taylor', \n",
    "        'Dixie', 'Levy', 'Citrus', 'Hernando']\n",
    "carribean = ['Pasco', 'Pinellas', 'Hillsborough', 'Manatee', 'Sarasota', \n",
    "        'Charlotte', 'Lee', 'Collier', 'Monroe']\n",
    "south_atlantic = ['Dade', 'Broward', 'Palm Beach', 'Martin', 'St Lucie', 'Indian River', 'Brevard']\n",
    "north_atlantic = ['Volusia', 'Flagler', 'St Johns', 'Duval', 'Nassau']"
   ]
  },
  {
   "cell_type": "code",
   "execution_count": 44,
   "metadata": {
    "scrolled": true
   },
   "outputs": [],
   "source": [
    "#We want to assign close numbers to close SPLocations\n",
    "#Therefore, we group beaches in a list based on their neighboring counties\n",
    "beach_list = []\n",
    "\n",
    "for c in county_list:\n",
    "    beach_list += df[df['County'] == c].SPLocation.unique().tolist()"
   ]
  },
  {
   "cell_type": "code",
   "execution_count": 45,
   "metadata": {},
   "outputs": [],
   "source": [
    "#Now defining functions that assign numbers to regions, counties, and SPLocations\n",
    "def region_no(county):\n",
    "    if county in gulf:\n",
    "        return 1\n",
    "    if county in carribean:\n",
    "        return 2\n",
    "    if county in south_atlantic:\n",
    "        return 3\n",
    "    if county in north_atlantic:\n",
    "        return 4\n",
    "\n",
    "def county_no(county):\n",
    "    return county_list.index(county) + 1\n",
    "\n",
    "def beach_no(beach):\n",
    "    return beach_list.index(beach) + 1"
   ]
  },
  {
   "cell_type": "code",
   "execution_count": 46,
   "metadata": {},
   "outputs": [],
   "source": [
    "#Assigning numbers in a new column\n",
    "df['Region Number'] = df['County'].apply(region_no)\n",
    "df['County Number'] = df['County'].apply(county_no)\n",
    "df['Beach Number'] = df['SPLocation'].apply(beach_no)"
   ]
  },
  {
   "cell_type": "code",
   "execution_count": 47,
   "metadata": {},
   "outputs": [
    {
     "name": "stdout",
     "output_type": "stream",
     "text": [
      "<class 'pandas.core.frame.DataFrame'>\n",
      "Int64Index: 170521 entries, 11 to 199396\n",
      "Data columns (total 18 columns):\n",
      "AirTemp          170521 non-null float64\n",
      "County           170521 non-null object\n",
      "Date             170521 non-null datetime64[ns]\n",
      "RainFall24h      170521 non-null float64\n",
      "RainFall3d       170521 non-null float64\n",
      "RainLastWeek     170521 non-null float64\n",
      "SPLocation       170521 non-null object\n",
      "WaterTemp        170521 non-null float64\n",
      "Weather          170521 non-null float64\n",
      "enterococcus     170521 non-null float64\n",
      "Year             170521 non-null int64\n",
      "Month            170521 non-null int64\n",
      "Day              170521 non-null int64\n",
      "DayofYear        170521 non-null int64\n",
      "Pollution        170521 non-null int64\n",
      "Region Number    170521 non-null int64\n",
      "County Number    170521 non-null int64\n",
      "Beach Number     170521 non-null int64\n",
      "dtypes: datetime64[ns](1), float64(7), int64(8), object(2)\n",
      "memory usage: 24.7+ MB\n"
     ]
    }
   ],
   "source": [
    "df.info()"
   ]
  },
  {
   "cell_type": "code",
   "execution_count": 48,
   "metadata": {},
   "outputs": [
    {
     "data": {
      "text/plain": [
       "Index(['AirTemp', 'County', 'Date', 'RainFall24h', 'RainFall3d',\n",
       "       'RainLastWeek', 'SPLocation', 'WaterTemp', 'Weather', 'enterococcus',\n",
       "       'Year', 'Month', 'Day', 'DayofYear', 'Pollution', 'Region Number',\n",
       "       'County Number', 'Beach Number'],\n",
       "      dtype='object')"
      ]
     },
     "execution_count": 48,
     "metadata": {},
     "output_type": "execute_result"
    }
   ],
   "source": [
    "#Let's see the columns of this dataframe\n",
    "df.columns"
   ]
  },
  {
   "cell_type": "code",
   "execution_count": 49,
   "metadata": {},
   "outputs": [],
   "source": [
    "#Finally we put columns in order to make it easier to follow\n",
    "df = df[['SPLocation', 'Beach Number', 'County', 'County Number', 'Region Number', 'Date', 'Year', 'Month',\n",
    "       'Day', 'DayofYear', 'Weather', 'WaterTemp', 'AirTemp', 'RainFall24h', 'RainFall3d',\n",
    "       'RainLastWeek', 'enterococcus', 'Pollution']]"
   ]
  },
  {
   "cell_type": "code",
   "execution_count": 50,
   "metadata": {},
   "outputs": [
    {
     "data": {
      "text/html": [
       "<div>\n",
       "<style scoped>\n",
       "    .dataframe tbody tr th:only-of-type {\n",
       "        vertical-align: middle;\n",
       "    }\n",
       "\n",
       "    .dataframe tbody tr th {\n",
       "        vertical-align: top;\n",
       "    }\n",
       "\n",
       "    .dataframe thead th {\n",
       "        text-align: right;\n",
       "    }\n",
       "</style>\n",
       "<table border=\"1\" class=\"dataframe\">\n",
       "  <thead>\n",
       "    <tr style=\"text-align: right;\">\n",
       "      <th></th>\n",
       "      <th>SPLocation</th>\n",
       "      <th>Beach Number</th>\n",
       "      <th>County</th>\n",
       "      <th>County Number</th>\n",
       "      <th>Region Number</th>\n",
       "      <th>Date</th>\n",
       "      <th>Year</th>\n",
       "      <th>Month</th>\n",
       "      <th>Day</th>\n",
       "      <th>DayofYear</th>\n",
       "      <th>Weather</th>\n",
       "      <th>WaterTemp</th>\n",
       "      <th>AirTemp</th>\n",
       "      <th>RainFall24h</th>\n",
       "      <th>RainFall3d</th>\n",
       "      <th>RainLastWeek</th>\n",
       "      <th>enterococcus</th>\n",
       "      <th>Pollution</th>\n",
       "    </tr>\n",
       "  </thead>\n",
       "  <tbody>\n",
       "    <tr>\n",
       "      <th>11</th>\n",
       "      <td>BEACH DRIVE</td>\n",
       "      <td>44</td>\n",
       "      <td>Bay</td>\n",
       "      <td>5</td>\n",
       "      <td>1</td>\n",
       "      <td>2000-08-03</td>\n",
       "      <td>2000</td>\n",
       "      <td>8</td>\n",
       "      <td>3</td>\n",
       "      <td>243</td>\n",
       "      <td>2.0</td>\n",
       "      <td>83.0</td>\n",
       "      <td>82.0</td>\n",
       "      <td>0.20</td>\n",
       "      <td>0.50</td>\n",
       "      <td>1.0</td>\n",
       "      <td>32.0</td>\n",
       "      <td>0</td>\n",
       "    </tr>\n",
       "    <tr>\n",
       "      <th>12</th>\n",
       "      <td>BEACH DRIVE</td>\n",
       "      <td>44</td>\n",
       "      <td>Bay</td>\n",
       "      <td>5</td>\n",
       "      <td>1</td>\n",
       "      <td>2000-08-17</td>\n",
       "      <td>2000</td>\n",
       "      <td>8</td>\n",
       "      <td>17</td>\n",
       "      <td>257</td>\n",
       "      <td>1.0</td>\n",
       "      <td>83.0</td>\n",
       "      <td>85.0</td>\n",
       "      <td>0.12</td>\n",
       "      <td>0.30</td>\n",
       "      <td>0.6</td>\n",
       "      <td>12.0</td>\n",
       "      <td>0</td>\n",
       "    </tr>\n",
       "    <tr>\n",
       "      <th>13</th>\n",
       "      <td>BEACH DRIVE</td>\n",
       "      <td>44</td>\n",
       "      <td>Bay</td>\n",
       "      <td>5</td>\n",
       "      <td>1</td>\n",
       "      <td>2000-08-31</td>\n",
       "      <td>2000</td>\n",
       "      <td>8</td>\n",
       "      <td>31</td>\n",
       "      <td>271</td>\n",
       "      <td>2.0</td>\n",
       "      <td>82.0</td>\n",
       "      <td>78.0</td>\n",
       "      <td>0.00</td>\n",
       "      <td>0.00</td>\n",
       "      <td>0.0</td>\n",
       "      <td>8.0</td>\n",
       "      <td>0</td>\n",
       "    </tr>\n",
       "    <tr>\n",
       "      <th>14</th>\n",
       "      <td>BEACH DRIVE</td>\n",
       "      <td>44</td>\n",
       "      <td>Bay</td>\n",
       "      <td>5</td>\n",
       "      <td>1</td>\n",
       "      <td>2000-09-14</td>\n",
       "      <td>2000</td>\n",
       "      <td>9</td>\n",
       "      <td>14</td>\n",
       "      <td>284</td>\n",
       "      <td>1.0</td>\n",
       "      <td>84.0</td>\n",
       "      <td>82.0</td>\n",
       "      <td>0.16</td>\n",
       "      <td>0.40</td>\n",
       "      <td>0.8</td>\n",
       "      <td>4.0</td>\n",
       "      <td>0</td>\n",
       "    </tr>\n",
       "    <tr>\n",
       "      <th>15</th>\n",
       "      <td>BEACH DRIVE</td>\n",
       "      <td>44</td>\n",
       "      <td>Bay</td>\n",
       "      <td>5</td>\n",
       "      <td>1</td>\n",
       "      <td>2000-09-28</td>\n",
       "      <td>2000</td>\n",
       "      <td>9</td>\n",
       "      <td>28</td>\n",
       "      <td>298</td>\n",
       "      <td>2.0</td>\n",
       "      <td>78.0</td>\n",
       "      <td>75.0</td>\n",
       "      <td>0.58</td>\n",
       "      <td>1.45</td>\n",
       "      <td>2.9</td>\n",
       "      <td>4.0</td>\n",
       "      <td>0</td>\n",
       "    </tr>\n",
       "  </tbody>\n",
       "</table>\n",
       "</div>"
      ],
      "text/plain": [
       "     SPLocation  Beach Number County  County Number  Region Number       Date  \\\n",
       "11  BEACH DRIVE            44    Bay              5              1 2000-08-03   \n",
       "12  BEACH DRIVE            44    Bay              5              1 2000-08-17   \n",
       "13  BEACH DRIVE            44    Bay              5              1 2000-08-31   \n",
       "14  BEACH DRIVE            44    Bay              5              1 2000-09-14   \n",
       "15  BEACH DRIVE            44    Bay              5              1 2000-09-28   \n",
       "\n",
       "    Year  Month  Day  DayofYear  Weather  WaterTemp  AirTemp  RainFall24h  \\\n",
       "11  2000      8    3        243      2.0       83.0     82.0         0.20   \n",
       "12  2000      8   17        257      1.0       83.0     85.0         0.12   \n",
       "13  2000      8   31        271      2.0       82.0     78.0         0.00   \n",
       "14  2000      9   14        284      1.0       84.0     82.0         0.16   \n",
       "15  2000      9   28        298      2.0       78.0     75.0         0.58   \n",
       "\n",
       "    RainFall3d  RainLastWeek  enterococcus  Pollution  \n",
       "11        0.50           1.0          32.0          0  \n",
       "12        0.30           0.6          12.0          0  \n",
       "13        0.00           0.0           8.0          0  \n",
       "14        0.40           0.8           4.0          0  \n",
       "15        1.45           2.9           4.0          0  "
      ]
     },
     "execution_count": 50,
     "metadata": {},
     "output_type": "execute_result"
    }
   ],
   "source": [
    "df.head()"
   ]
  },
  {
   "cell_type": "code",
   "execution_count": 51,
   "metadata": {},
   "outputs": [],
   "source": [
    "#Storing the clean data as a csv file\n",
    "df.to_csv('BeachTestData.csv', encoding='utf-8', index=False)"
   ]
  }
 ],
 "metadata": {
  "kernelspec": {
   "display_name": "Python 3",
   "language": "python",
   "name": "python3"
  },
  "language_info": {
   "codemirror_mode": {
    "name": "ipython",
    "version": 3
   },
   "file_extension": ".py",
   "mimetype": "text/x-python",
   "name": "python",
   "nbconvert_exporter": "python",
   "pygments_lexer": "ipython3",
   "version": "3.7.3"
  }
 },
 "nbformat": 4,
 "nbformat_minor": 2
}
